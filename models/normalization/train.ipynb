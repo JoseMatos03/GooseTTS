{
 "cells": [
  {
   "cell_type": "code",
   "execution_count": 2,
   "metadata": {},
   "outputs": [
    {
     "name": "stdout",
     "output_type": "stream",
     "text": [
      "Total number of samples: 320000\n",
      "Use:  320000\n",
      "x_data sample:\n",
      "[ -1   0   0   0   0   0   0   0   0   0   0  -1  66 114 105 108 108  97\n",
      " 110 116  97 105  -1 105 115   0   0   0   0   0   0   0   0  -1]\n",
      "y_data sample:\n",
      "0\n",
      "labels:\n",
      "Index(['PLAIN', 'PUNCT', 'DATE', 'LETTERS', 'CARDINAL', 'VERBATIM', 'DECIMAL',\n",
      "       'MEASURE', 'MONEY', 'ORDINAL', 'TIME', 'ELECTRONIC', 'DIGIT',\n",
      "       'FRACTION', 'TELEPHONE', 'ADDRESS'],\n",
      "      dtype='object')\n"
     ]
    }
   ],
   "source": [
    "import pandas as pd\n",
    "import numpy as np\n",
    "import os\n",
    "import pickle\n",
    "import gc\n",
    "import xgboost as xgb\n",
    "import numpy as np\n",
    "import re\n",
    "import pandas as pd\n",
    "from sklearn.model_selection import train_test_split\n",
    "\n",
    "max_num_features = 10\n",
    "pad_size = 1\n",
    "boundary_letter = -1\n",
    "space_letter = 0\n",
    "max_data_size = 320000\n",
    "\n",
    "out_path = r'./results'\n",
    "df = pd.read_csv(r'./data/en_train.csv')\n",
    "\n",
    "x_data = []\n",
    "y_data =  pd.factorize(df['class'])\n",
    "labels = y_data[1]\n",
    "y_data = y_data[0]\n",
    "gc.collect()\n",
    "for x in df['before'].values:\n",
    "    x_row = np.ones(max_num_features, dtype=int) * space_letter\n",
    "    for xi, i in zip(list(str(x)), np.arange(max_num_features)):\n",
    "        x_row[i] = ord(xi)\n",
    "    x_data.append(x_row)\n",
    "\n",
    "def context_window_transform(data, pad_size):\n",
    "    pre = np.zeros(max_num_features)\n",
    "    pre = [pre for x in np.arange(pad_size)]\n",
    "    data = pre + data + pre\n",
    "    neo_data = []\n",
    "    for i in np.arange(len(data) - pad_size * 2):\n",
    "        row = []\n",
    "        for x in data[i : i + pad_size * 2 + 1]:\n",
    "            row.append([boundary_letter])\n",
    "            row.append(x)\n",
    "        row.append([boundary_letter])\n",
    "        neo_data.append([int(x) for y in row for x in y])\n",
    "    return neo_data\n",
    "\n",
    "x_data = x_data[:max_data_size]\n",
    "y_data = y_data[:max_data_size]\n",
    "x_data = np.array(context_window_transform(x_data, pad_size))\n",
    "gc.collect()\n",
    "x_data = np.array(x_data)\n",
    "y_data = np.array(y_data)\n",
    "\n",
    "print('Total number of samples:', len(x_data))\n",
    "print('Use: ', max_data_size)\n",
    "#x_data = np.array(x_data)\n",
    "#y_data = np.array(y_data)\n",
    "\n",
    "print('x_data sample:')\n",
    "print(x_data[0])\n",
    "print('y_data sample:')\n",
    "print(y_data[0])\n",
    "print('labels:')\n",
    "print(labels)"
   ]
  },
  {
   "cell_type": "code",
   "execution_count": 8,
   "metadata": {},
   "outputs": [
    {
     "name": "stderr",
     "output_type": "stream",
     "text": [
      "/Users/josematos/.pyenv/versions/3.10.0/envs/goosetts/lib/python3.10/site-packages/xgboost/core.py:723: FutureWarning: Pass `evals` as keyword args.\n",
      "  warnings.warn(msg, FutureWarning)\n",
      "/Users/josematos/.pyenv/versions/3.10.0/envs/goosetts/lib/python3.10/site-packages/xgboost/core.py:158: UserWarning: [13:55:16] WARNING: /Users/runner/work/xgboost/xgboost/src/learner.cc:740: \n",
      "Parameters: { \"silent\" } are not used.\n",
      "\n",
      "  warnings.warn(smsg, UserWarning)\n"
     ]
    },
    {
     "name": "stdout",
     "output_type": "stream",
     "text": [
      "[0]\tvalid-merror:0.01003\ttrain-merror:0.00987\n",
      "[10]\tvalid-merror:0.00722\ttrain-merror:0.00468\n",
      "[20]\tvalid-merror:0.00672\ttrain-merror:0.00275\n",
      "[30]\tvalid-merror:0.00656\ttrain-merror:0.00174\n",
      "[40]\tvalid-merror:0.00644\ttrain-merror:0.00110\n",
      "[49]\tvalid-merror:0.00613\ttrain-merror:0.00071\n"
     ]
    },
    {
     "name": "stderr",
     "output_type": "stream",
     "text": [
      "/Users/josematos/.pyenv/versions/3.10.0/envs/goosetts/lib/python3.10/site-packages/xgboost/core.py:158: UserWarning: [13:55:24] WARNING: /Users/runner/work/xgboost/xgboost/src/c_api/c_api.cc:1374: Saving model in the UBJSON format as default.  You can use file extension: `json`, `ubj` or `deprecated` to choose between formats.\n",
      "  warnings.warn(smsg, UserWarning)\n"
     ]
    }
   ],
   "source": [
    "x_train = x_data\n",
    "y_train = y_data\n",
    "gc.collect()\n",
    "\n",
    "x_train, x_valid, y_train, y_valid= train_test_split(x_train, y_train,\n",
    "                                                      test_size=0.1, random_state=2017)\n",
    "gc.collect()\n",
    "num_class = len(labels)\n",
    "dtrain = xgb.DMatrix(x_train, label=y_train)\n",
    "dvalid = xgb.DMatrix(x_valid, label=y_valid)\n",
    "watchlist = [(dvalid, 'valid'), (dtrain, 'train')]\n",
    "\n",
    "param = {'objective':'multi:softmax',\n",
    "         'eta':'0.3', 'max_depth':10,\n",
    "         'silent':1, 'nthread':-1,\n",
    "         'num_class':num_class,\n",
    "         'eval_metric':'merror'}\n",
    "model = xgb.train(param, dtrain, 50, watchlist, early_stopping_rounds=20,\n",
    "                  verbose_eval=10)\n",
    "gc.collect()\n",
    "\n",
    "pred = model.predict(dvalid)\n",
    "pred = [labels[int(x)] for x in pred]\n",
    "y_valid = [labels[x] for x in y_valid]\n",
    "x_valid = [ [ chr(x) for x in y[2 + max_num_features: 2 + max_num_features * 2]] for y in x_valid]\n",
    "x_valid = [''.join(x) for x in x_valid]\n",
    "x_valid = [re.sub('a+$', '', x) for x in x_valid]\n",
    "\n",
    "gc.collect()\n",
    "\n",
    "df_pred = pd.DataFrame(columns=['data', 'predict', 'target'])\n",
    "df_pred['data'] = x_valid\n",
    "df_pred['predict'] = pred\n",
    "df_pred['target'] = y_valid\n",
    "df_pred.to_csv(os.path.join(out_path, 'pred.csv'), escapechar='\"')\n",
    "\n",
    "df_erros = df_pred.loc[df_pred['predict'] != df_pred['target']]\n",
    "df_erros.to_csv(os.path.join(out_path, 'errors.csv'), index=False, escapechar='\"')\n",
    "\n",
    "model.save_model(os.path.join(out_path, 'xgb_model'))"
   ]
  }
 ],
 "metadata": {
  "kernelspec": {
   "display_name": "goosetts",
   "language": "python",
   "name": "python3"
  },
  "language_info": {
   "codemirror_mode": {
    "name": "ipython",
    "version": 3
   },
   "file_extension": ".py",
   "mimetype": "text/x-python",
   "name": "python",
   "nbconvert_exporter": "python",
   "pygments_lexer": "ipython3",
   "version": "3.10.0"
  }
 },
 "nbformat": 4,
 "nbformat_minor": 2
}
